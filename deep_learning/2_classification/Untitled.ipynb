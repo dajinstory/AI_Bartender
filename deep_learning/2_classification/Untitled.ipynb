{
 "cells": [
  {
   "cell_type": "code",
   "execution_count": null,
   "metadata": {
    "collapsed": true
   },
   "outputs": [],
   "source": [
    "print('a')"
   ]
  },
  {
   "cell_type": "code",
   "execution_count": null,
   "metadata": {
    "collapsed": true
   },
   "outputs": [],
   "source": [
    "wine_db=pd.read_csv(\"./wine_db.csv\")\n",
    "\n",
    "\n",
    "ann_sample = AnnoyIndex(dimension, 'euclidean')  # Length of item vector that will be indexed\n",
    "\n",
    "for i in range(1, 1000): #make dummy data\n",
    "    v = wine_db['vector'][i]\n",
    "    ann_sample.add_item(i, v)\n",
    "\n",
    "ann_sample.build(10)\n",
    "ann_sample.save('test.ann')  \n",
    "\n"
   ]
  },
  {
   "cell_type": "code",
   "execution_count": null,
   "metadata": {
    "collapsed": true
   },
   "outputs": [],
   "source": [
    "# ...\n",
    "ann_model=AnnoyIndex(dimension,'euclidean')\n",
    "ann_model.load('test.ann')\n",
    "nns_num=100\n",
    "target_vector = [1,1,1,1]\n",
    "nns = ann_model.get_nns_by_vector(target_vector, nns_num)\n",
    "check =[]\n",
    "for i in range(nns_num):\n",
    "    check.append(wine_db['label'][i])\n",
    "printCheck = collections.Counter(check)\n",
    "\n",
    "print(printCheck.most_common(10))\n",
    "#print(nns)\n",
    "#...\n"
   ]
  }
 ],
 "metadata": {
  "kernelspec": {
   "display_name": "ai_bartender",
   "language": "python",
   "name": "ai_bartender"
  }
 },
 "nbformat": 4,
 "nbformat_minor": 2
}
