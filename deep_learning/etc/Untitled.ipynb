{
 "cells": [
  {
   "cell_type": "code",
   "execution_count": 119,
   "metadata": {},
   "outputs": [],
   "source": [
    "import tensorflow as tf\n",
    "from tensorflow import keras\n",
    "from tensorflow.keras import utils,layers,datasets\n",
    "from tensorflow.keras.callbacks import EarlyStopping\n",
    "from keras.layers import Conv2D\n",
    "from keras.layers import MaxPooling2D\n",
    "from keras.layers import Activation, Dropout, Flatten, Dense\n",
    "from keras.models import Sequential\n",
    "from tensorflow.keras.utils import to_categorical"
   ]
  },
  {
   "cell_type": "code",
   "execution_count": 120,
   "metadata": {},
   "outputs": [],
   "source": [
    "import numpy as np\n",
    "import matplotlib.pyplot as plt"
   ]
  },
  {
   "cell_type": "code",
   "execution_count": 121,
   "metadata": {},
   "outputs": [],
   "source": [
    "cifar=datasets=datasets.cifar100\n",
    "(train_images,train_labels),(test_images,test_labels)=cifar.load_data()"
   ]
  },
  {
   "cell_type": "code",
   "execution_count": 122,
   "metadata": {},
   "outputs": [
    {
     "name": "stdout",
     "output_type": "stream",
     "text": [
      "(50000, 32, 32, 3) (50000, 1) (10000, 32, 32, 3) (10000, 1)\n",
      "[[49]\n",
      " [33]\n",
      " [72]\n",
      " ...\n",
      " [51]\n",
      " [42]\n",
      " [70]]\n"
     ]
    }
   ],
   "source": [
    "\n",
    "print(train_images.shape,train_labels.shape,test_images.shape,test_labels.shape)\n",
    "print(test_labels)"
   ]
  },
  {
   "cell_type": "code",
   "execution_count": 123,
   "metadata": {},
   "outputs": [],
   "source": [
    "import cv2\n",
    "import os\n",
    "\n",
    "def load_data(path,row,column):\n",
    "\n",
    "    x_train=[]\n",
    "    y_train=[]\n",
    "    x_test=[]\n",
    "    y_test=[]\n",
    "    tmp = 1\n",
    "    each_img_paths=[path+\"\\\\\"+name for name in os.listdir(path)]\n",
    "    #print(each_img_paths)\n",
    "    for idx in range(len(each_img_paths)):\n",
    "        image_path=each_img_paths[idx]\n",
    "        #print(image_path)\n",
    "        img=cv2.imread(image_path,cv2.IMREAD_COLOR)\n",
    "        cv2.imshow('img', img)\n",
    "        img=cv2.resize(img, (row,column), interpolation = cv2.INTER_AREA)\n",
    "        if tmp==4:\n",
    "            tmp=1\n",
    "            x_test.append(img)\n",
    "            y_test.append([1])\n",
    "        else:\n",
    "            tmp=tmp+1\n",
    "            x_train.append(img)\n",
    "            y_train.append([[0],[1]])\n",
    "    return np.array(x_train), np.array(y_train), np.array(x_test), np.array(y_test)\n"
   ]
  },
  {
   "cell_type": "code",
   "execution_count": 124,
   "metadata": {
    "scrolled": false
   },
   "outputs": [],
   "source": [
    "path = \"D:\\\\hanyang\\\\git\\\\workplace\\\\Tensorflow_study\\\\wine\"\n",
    "x_train,y_train,x_test,y_test= load_data(path,32,32)"
   ]
  },
  {
   "cell_type": "code",
   "execution_count": 125,
   "metadata": {},
   "outputs": [
    {
     "name": "stdout",
     "output_type": "stream",
     "text": [
      "(307, 32, 32, 3) (307, 2, 1) (102, 32, 32, 3) (102, 1)\n"
     ]
    }
   ],
   "source": [
    "print(x_train.shape,y_train.shape,x_test.shape,y_test.shape)"
   ]
  },
  {
   "cell_type": "code",
   "execution_count": 126,
   "metadata": {},
   "outputs": [
    {
     "ename": "ValueError",
     "evalue": "all the input arrays must have same number of dimensions, but the array at index 0 has 3 dimension(s) and the array at index 1 has 2 dimension(s)",
     "output_type": "error",
     "traceback": [
      "\u001b[1;31m---------------------------------------------------------------------------\u001b[0m",
      "\u001b[1;31mValueError\u001b[0m                                Traceback (most recent call last)",
      "\u001b[1;32m<ipython-input-126-54650a8eccc6>\u001b[0m in \u001b[0;36m<module>\u001b[1;34m\u001b[0m\n\u001b[0;32m      1\u001b[0m \u001b[0mX_train\u001b[0m\u001b[1;33m=\u001b[0m\u001b[0mnp\u001b[0m\u001b[1;33m.\u001b[0m\u001b[0mconcatenate\u001b[0m\u001b[1;33m(\u001b[0m\u001b[1;33m(\u001b[0m\u001b[0mx_train\u001b[0m\u001b[1;33m,\u001b[0m\u001b[0mtrain_images\u001b[0m\u001b[1;33m)\u001b[0m\u001b[1;33m,\u001b[0m\u001b[0maxis\u001b[0m\u001b[1;33m=\u001b[0m\u001b[1;36m0\u001b[0m\u001b[1;33m)\u001b[0m\u001b[1;33m\u001b[0m\u001b[1;33m\u001b[0m\u001b[0m\n\u001b[0;32m      2\u001b[0m \u001b[1;33m\u001b[0m\u001b[0m\n\u001b[1;32m----> 3\u001b[1;33m \u001b[0mY_train\u001b[0m\u001b[1;33m=\u001b[0m\u001b[0mnp\u001b[0m\u001b[1;33m.\u001b[0m\u001b[0mconcatenate\u001b[0m\u001b[1;33m(\u001b[0m\u001b[1;33m(\u001b[0m\u001b[0my_train\u001b[0m\u001b[1;33m,\u001b[0m\u001b[0mnp\u001b[0m\u001b[1;33m.\u001b[0m\u001b[0mzeros\u001b[0m\u001b[1;33m(\u001b[0m\u001b[1;33m(\u001b[0m\u001b[1;36m50000\u001b[0m\u001b[1;33m,\u001b[0m\u001b[1;36m1\u001b[0m\u001b[1;33m)\u001b[0m\u001b[1;33m)\u001b[0m\u001b[1;33m)\u001b[0m\u001b[1;33m,\u001b[0m\u001b[0maxis\u001b[0m\u001b[1;33m=\u001b[0m\u001b[1;36m0\u001b[0m\u001b[1;33m)\u001b[0m\u001b[1;33m\u001b[0m\u001b[1;33m\u001b[0m\u001b[0m\n\u001b[0m\u001b[0;32m      4\u001b[0m \u001b[0mX_test\u001b[0m\u001b[1;33m=\u001b[0m\u001b[0mnp\u001b[0m\u001b[1;33m.\u001b[0m\u001b[0mconcatenate\u001b[0m\u001b[1;33m(\u001b[0m\u001b[1;33m(\u001b[0m\u001b[0mx_test\u001b[0m\u001b[1;33m,\u001b[0m\u001b[0mtest_images\u001b[0m\u001b[1;33m)\u001b[0m\u001b[1;33m,\u001b[0m\u001b[0maxis\u001b[0m\u001b[1;33m=\u001b[0m\u001b[1;36m0\u001b[0m\u001b[1;33m)\u001b[0m\u001b[1;33m\u001b[0m\u001b[1;33m\u001b[0m\u001b[0m\n\u001b[0;32m      5\u001b[0m \u001b[0mY_test\u001b[0m\u001b[1;33m=\u001b[0m\u001b[0mnp\u001b[0m\u001b[1;33m.\u001b[0m\u001b[0mconcatenate\u001b[0m\u001b[1;33m(\u001b[0m\u001b[1;33m(\u001b[0m\u001b[0my_test\u001b[0m\u001b[1;33m,\u001b[0m\u001b[0mnp\u001b[0m\u001b[1;33m.\u001b[0m\u001b[0mzeros\u001b[0m\u001b[1;33m(\u001b[0m\u001b[1;33m(\u001b[0m\u001b[1;36m10000\u001b[0m\u001b[1;33m,\u001b[0m\u001b[1;36m1\u001b[0m\u001b[1;33m)\u001b[0m\u001b[1;33m)\u001b[0m\u001b[1;33m)\u001b[0m\u001b[1;33m,\u001b[0m\u001b[0maxis\u001b[0m\u001b[1;33m=\u001b[0m\u001b[1;36m0\u001b[0m\u001b[1;33m)\u001b[0m\u001b[1;33m\u001b[0m\u001b[1;33m\u001b[0m\u001b[0m\n",
      "\u001b[1;32m<__array_function__ internals>\u001b[0m in \u001b[0;36mconcatenate\u001b[1;34m(*args, **kwargs)\u001b[0m\n",
      "\u001b[1;31mValueError\u001b[0m: all the input arrays must have same number of dimensions, but the array at index 0 has 3 dimension(s) and the array at index 1 has 2 dimension(s)"
     ]
    }
   ],
   "source": [
    "X_train=np.concatenate((x_train,train_images),axis=0)\n",
    "    \n",
    "Y_train=np.concatenate((y_train,np.zeros((50000,1))),axis=0)\n",
    "X_test=np.concatenate((x_test,test_images),axis=0)\n",
    "Y_test=np.concatenate((y_test,np.zeros((10000,1))),axis=0)\n",
    "\n",
    "print(X_train.shape,Y_train.shape,X_test.shape,Y_test.shape)      \n",
    "\n",
    "seed = 100\n",
    "np.random.seed(seed)\n",
    "\n",
    "randomize = np.arange(len(X_train))\n",
    "np.random.shuffle(randomize)\n",
    "X_train = X_train[randomize]\n",
    "Y_train = Y_train[randomize]\n",
    "\n",
    "randomize = np.arange(len(X_test))\n",
    "np.random.shuffle(randomize)\n",
    "X_test = X_test[randomize]\n",
    "Y_test = Y_test[randomize]\n",
    "\n",
    "X_train=X_train.astype(float)/255.0\n",
    "X_test=X_test.astype(float)/255.0\n",
    "Y_train=to_categorical(Y_train,2)\n",
    "Y_test=to_categorical(Y_test,2)\n",
    "\n",
    "print(X_train.shape,Y_train.shape,X_test.shape,Y_test.shape)      \n"
   ]
  },
  {
   "cell_type": "code",
   "execution_count": null,
   "metadata": {},
   "outputs": [],
   "source": [
    "def make_model():\n",
    "    model = Sequential()\n",
    "    model.add(Conv2D(32,(3,3),padding='same',activation='relu',input_shape=X_train.shape[1:]))\n",
    "    model.add(MaxPooling2D(pool_size=(2,2)))\n",
    "    model.add(Dropout(0.25))\n",
    "    \n",
    "    model.add(Conv2D(64,(3,3),padding='same',activation='relu',input_shape=X_train.shape[1:]))\n",
    "    model.add(MaxPooling2D(pool_size=(2,2)))\n",
    "    model.add(Dropout(0.25))\n",
    "    \n",
    "    model.add(Flatten())\n",
    "    model.add(Dense(64,activation='relu'))\n",
    "    model.add(Dropout(0.5))\n",
    "    model.add(Dense(2,activation='softmax'))\n",
    "    \n",
    "    return model\n",
    "    "
   ]
  },
  {
   "cell_type": "code",
   "execution_count": 127,
   "metadata": {},
   "outputs": [
    {
     "name": "stdout",
     "output_type": "stream",
     "text": [
      "Model: \"sequential_15\"\n",
      "_________________________________________________________________\n",
      "Layer (type)                 Output Shape              Param #   \n",
      "=================================================================\n",
      "conv2d_21 (Conv2D)           (None, 32, 32, 32)        896       \n",
      "_________________________________________________________________\n",
      "max_pooling2d_21 (MaxPooling (None, 16, 16, 32)        0         \n",
      "_________________________________________________________________\n",
      "dropout_31 (Dropout)         (None, 16, 16, 32)        0         \n",
      "_________________________________________________________________\n",
      "conv2d_22 (Conv2D)           (None, 16, 16, 64)        18496     \n",
      "_________________________________________________________________\n",
      "max_pooling2d_22 (MaxPooling (None, 8, 8, 64)          0         \n",
      "_________________________________________________________________\n",
      "dropout_32 (Dropout)         (None, 8, 8, 64)          0         \n",
      "_________________________________________________________________\n",
      "flatten_11 (Flatten)         (None, 4096)              0         \n",
      "_________________________________________________________________\n",
      "dense_23 (Dense)             (None, 64)                262208    \n",
      "_________________________________________________________________\n",
      "dropout_33 (Dropout)         (None, 64)                0         \n",
      "_________________________________________________________________\n",
      "dense_24 (Dense)             (None, 2)                 130       \n",
      "=================================================================\n",
      "Total params: 281,730\n",
      "Trainable params: 281,730\n",
      "Non-trainable params: 0\n",
      "_________________________________________________________________\n"
     ]
    }
   ],
   "source": [
    "m=make_model()\n",
    "m.summary()\n",
    "m.compile(optimizer = 'adam', loss = 'categorical_crossentropy', metrics = ['accuracy'])\n"
   ]
  },
  {
   "cell_type": "code",
   "execution_count": 129,
   "metadata": {},
   "outputs": [],
   "source": [
    "epochs = 35\n",
    "early_stopping =EarlyStopping(monitor='val_loss',patience=10)"
   ]
  },
  {
   "cell_type": "code",
   "execution_count": 130,
   "metadata": {},
   "outputs": [
    {
     "name": "stdout",
     "output_type": "stream",
     "text": [
      "Train on 50307 samples, validate on 10102 samples\n",
      "Epoch 1/35\n",
      "50307/50307 [==============================] - 117s 2ms/step - loss: 0.3328 - accuracy: 0.9930 - val_loss: 0.3805 - val_accuracy: 0.9899\n",
      "Epoch 2/35\n",
      "50307/50307 [==============================] - 131s 3ms/step - loss: 0.0550 - accuracy: 0.9939 - val_loss: 0.1733 - val_accuracy: 0.9899\n",
      "Epoch 3/35\n",
      "50307/50307 [==============================] - 137s 3ms/step - loss: 0.0587 - accuracy: 0.9938 - val_loss: 0.0883 - val_accuracy: 0.9899\n",
      "Epoch 4/35\n",
      "50307/50307 [==============================] - 114s 2ms/step - loss: 0.0424 - accuracy: 0.9939 - val_loss: 0.0644 - val_accuracy: 0.9899\n",
      "Epoch 5/35\n",
      "50307/50307 [==============================] - 129s 3ms/step - loss: 0.0429 - accuracy: 0.9939 - val_loss: 0.0569 - val_accuracy: 0.9899\n",
      "Epoch 6/35\n",
      "50307/50307 [==============================] - 124s 2ms/step - loss: 0.0381 - accuracy: 0.9939 - val_loss: 0.0586 - val_accuracy: 0.9899\n",
      "Epoch 7/35\n",
      "50307/50307 [==============================] - 113s 2ms/step - loss: 0.0507 - accuracy: 0.9939 - val_loss: 0.0605 - val_accuracy: 0.9899\n",
      "Epoch 8/35\n",
      "50307/50307 [==============================] - 123s 2ms/step - loss: 0.0416 - accuracy: 0.9939 - val_loss: 0.0618 - val_accuracy: 0.9899\n",
      "Epoch 9/35\n",
      "50307/50307 [==============================] - 142s 3ms/step - loss: 0.0401 - accuracy: 0.9938 - val_loss: 0.0628 - val_accuracy: 0.9899\n",
      "Epoch 10/35\n",
      "50307/50307 [==============================] - 130s 3ms/step - loss: 0.0378 - accuracy: 0.9939 - val_loss: 0.0650 - val_accuracy: 0.9899\n",
      "Epoch 11/35\n",
      "50307/50307 [==============================] - 129s 3ms/step - loss: 0.0397 - accuracy: 0.9939 - val_loss: 0.0610 - val_accuracy: 0.9899\n",
      "Epoch 12/35\n",
      "50307/50307 [==============================] - 148s 3ms/step - loss: 0.0374 - accuracy: 0.9939 - val_loss: 0.0612 - val_accuracy: 0.9899\n",
      "Epoch 13/35\n",
      "50307/50307 [==============================] - 113s 2ms/step - loss: 0.0379 - accuracy: 0.9939 - val_loss: 0.0630 - val_accuracy: 0.9899\n",
      "Epoch 14/35\n",
      "50307/50307 [==============================] - 114s 2ms/step - loss: 0.0452 - accuracy: 0.9939 - val_loss: 0.0571 - val_accuracy: 0.9899\n",
      "Epoch 15/35\n",
      "50307/50307 [==============================] - 119s 2ms/step - loss: 0.0389 - accuracy: 0.9939 - val_loss: 0.0575 - val_accuracy: 0.9899\n"
     ]
    }
   ],
   "source": [
    "history = m.fit(\n",
    "    X_train,Y_train,\n",
    "    epochs=epochs,\n",
    "    validation_data=(X_test,Y_test),\n",
    "    callbacks=[early_stopping]\n",
    ")"
   ]
  },
  {
   "cell_type": "code",
   "execution_count": 131,
   "metadata": {},
   "outputs": [
    {
     "ename": "NameError",
     "evalue": "name 'seed' is not defined",
     "output_type": "error",
     "traceback": [
      "\u001b[1;31m---------------------------------------------------------------------------\u001b[0m",
      "\u001b[1;31mNameError\u001b[0m                                 Traceback (most recent call last)",
      "\u001b[1;32m<ipython-input-131-62a34e9dca8a>\u001b[0m in \u001b[0;36m<module>\u001b[1;34m\u001b[0m\n\u001b[0;32m      1\u001b[0m \u001b[1;32mfrom\u001b[0m \u001b[0mkeras\u001b[0m\u001b[1;33m.\u001b[0m\u001b[0mmodels\u001b[0m \u001b[1;32mimport\u001b[0m \u001b[0mload_model\u001b[0m\u001b[1;33m\u001b[0m\u001b[1;33m\u001b[0m\u001b[0m\n\u001b[1;32m----> 2\u001b[1;33m \u001b[0mm\u001b[0m\u001b[1;33m.\u001b[0m\u001b[0msave\u001b[0m\u001b[1;33m(\u001b[0m\u001b[1;34m'cnn_epoch'\u001b[0m\u001b[1;33m+\u001b[0m\u001b[0mstr\u001b[0m\u001b[1;33m(\u001b[0m\u001b[0mepochs\u001b[0m\u001b[1;33m)\u001b[0m\u001b[1;33m+\u001b[0m\u001b[1;34m\"seed_\"\u001b[0m\u001b[1;33m+\u001b[0m\u001b[0mstr\u001b[0m\u001b[1;33m(\u001b[0m\u001b[0mseed\u001b[0m\u001b[1;33m)\u001b[0m\u001b[1;33m+\u001b[0m\u001b[1;34m\"_model.h5\"\u001b[0m\u001b[1;33m)\u001b[0m\u001b[1;33m\u001b[0m\u001b[1;33m\u001b[0m\u001b[0m\n\u001b[0m\u001b[0;32m      3\u001b[0m \u001b[1;33m\u001b[0m\u001b[0m\n\u001b[0;32m      4\u001b[0m \u001b[0my_vloss\u001b[0m\u001b[1;33m=\u001b[0m\u001b[0mhistory\u001b[0m\u001b[1;33m.\u001b[0m\u001b[0mhistory\u001b[0m\u001b[1;33m[\u001b[0m\u001b[1;34m'val_loss'\u001b[0m\u001b[1;33m]\u001b[0m\u001b[1;33m\u001b[0m\u001b[1;33m\u001b[0m\u001b[0m\n\u001b[0;32m      5\u001b[0m \u001b[0my_loss\u001b[0m\u001b[1;33m=\u001b[0m\u001b[0mhistory\u001b[0m\u001b[1;33m.\u001b[0m\u001b[0mhistory\u001b[0m\u001b[1;33m[\u001b[0m\u001b[1;34m'loss'\u001b[0m\u001b[1;33m]\u001b[0m\u001b[1;33m\u001b[0m\u001b[1;33m\u001b[0m\u001b[0m\n",
      "\u001b[1;31mNameError\u001b[0m: name 'seed' is not defined"
     ]
    }
   ],
   "source": [
    "from keras.models import load_model\n",
    "m.save('cnn_epoch'+str(epochs)+\"seed_\"+str(seed)+\"_model.h5\")\n",
    "\n",
    "y_vloss=history.history['val_loss']\n",
    "y_loss=history.history['loss']\n",
    "\n",
    "x_len=np.arange(len(y_loss))\n",
    "\n",
    "plt.plot(x_len,y_vloss,marker=\".\",c=\"red\",label='val_set_loss')\n",
    "plt.plot(x_len,y_loss,marker=\".\",c=\"blue\",label='train_set_loss')\n",
    "plt.legend()\n",
    "plt.xlabel('epochs')\n",
    "plt.ylabel('loss')\n",
    "plt.grid()\n",
    "plt.show()"
   ]
  },
  {
   "cell_type": "code",
   "execution_count": null,
   "metadata": {},
   "outputs": [],
   "source": []
  }
 ],
 "metadata": {
  "kernelspec": {
   "display_name": "Python [conda env:py3tf14] *",
   "language": "python",
   "name": "conda-env-py3tf14-py"
  },
  "language_info": {
   "codemirror_mode": {
    "name": "ipython",
    "version": 3
   },
   "file_extension": ".py",
   "mimetype": "text/x-python",
   "name": "python",
   "nbconvert_exporter": "python",
   "pygments_lexer": "ipython3",
   "version": "3.7.5"
  }
 },
 "nbformat": 4,
 "nbformat_minor": 2
}
