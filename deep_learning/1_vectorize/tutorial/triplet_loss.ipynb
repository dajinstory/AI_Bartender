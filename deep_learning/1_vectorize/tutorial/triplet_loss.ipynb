{
 "cells": [
  {
   "cell_type": "code",
   "execution_count": 11,
   "metadata": {
    "scrolled": true
   },
   "outputs": [],
   "source": [
    "LEARNING_RATE=0.1\n",
    "MARGIN = 1.3\n",
    "\n",
    "import tensorflow as tf\n",
    "import numpy as np\n",
    "import matplotlib.pyplot as plt\n",
    "import matplotlib.patheffects as PathEffects\n",
    "import seaborn as sns\n",
    "from sklearn.manifold import TSNE\n",
    "import random\n",
    "from itertools import permutations\n",
    "\n",
    "from keras.optimizers import SGD,Adam\n",
    "from keras.layers import Input, Conv2D, Lambda, Dense, Flatten,MaxPooling2D, concatenate\n",
    "from keras.models import Model, Sequential\n",
    "from keras.callbacks import CSVLogger, ModelCheckpoint, EarlyStopping\n",
    "from keras import backend as K"
   ]
  },
  {
   "cell_type": "code",
   "execution_count": 2,
   "metadata": {},
   "outputs": [],
   "source": [
    "(x_train, y_train) , (x_test,y_test) = tf.keras.datasets.mnist.load_data(path='mnist.npz')"
   ]
  },
  {
   "cell_type": "code",
   "execution_count": 3,
   "metadata": {},
   "outputs": [],
   "source": [
    "# Define our own plot function\n",
    "def scatter(x, labels, num_of_labels, subtitle=None):\n",
    "    # We choose a color palette with seaborn.\n",
    "    palette = np.array(sns.color_palette(\"hls\", num_of_labels))\n",
    "\n",
    "    # We create a scatter plot.\n",
    "    f = plt.figure(figsize=(8, 8))\n",
    "    ax = plt.subplot(aspect='equal')\n",
    "    \n",
    "    \n",
    "    sc = ax.scatter(x[:,0], x[:,1], lw=0, s=40,\n",
    "                    c=palette[labels.astype(np.int)])\n",
    "    plt.xlim(-25, 25)\n",
    "    plt.ylim(-25, 25)\n",
    "    # 그래프 규격선, 여백공간 제거\n",
    "    ax.axis('off') \n",
    "    ax.axis('tight')\n",
    "\n",
    "    # We add the labels for each digit.\n",
    "    txts = []\n",
    "    for i in range(num_of_labels):\n",
    "        # Add Label with txt type on plotting image\n",
    "        xtext, ytext = np.median(x[labels == i, :], axis=0)\n",
    "        txt = ax.text(xtext, ytext, str(i), fontsize=24)\n",
    "        txt.set_path_effects([\n",
    "            PathEffects.Stroke(linewidth=5, foreground=\"w\"),\n",
    "            PathEffects.Normal()])\n",
    "        txts.append(txt)\n",
    "        \n",
    "    if subtitle != None:\n",
    "        plt.suptitle(subtitle)\n",
    "        \n",
    "    plt.savefig(subtitle)"
   ]
  },
  {
   "cell_type": "code",
   "execution_count": 4,
   "metadata": {},
   "outputs": [
    {
     "name": "stdout",
     "output_type": "stream",
     "text": [
      "before shape :  (60000, 28, 28)\n",
      "after flat shape :  (60000, 784)\n",
      "before shape :  (10000, 28, 28)\n",
      "after flat shape :  (10000, 784)\n",
      "(100, 2)\n"
     ]
    },
    {
     "data": {
      "image/png": "[encoded data removed]",
      "text/plain": [
       "<Figure size 576x576 with 1 Axes>"
      ]
     },
     "metadata": {
      "needs_background": "light"
     },
     "output_type": "display_data"
    }
   ],
   "source": [
    "img_row=28\n",
    "img_column=28\n",
    "img_channel=1\n",
    "print(\"before shape : \",x_train.shape)\n",
    "x_train_flat = x_train.reshape(-1,img_row*img_column*img_channel)\n",
    "print(\"after flat shape : \",x_train_flat.shape)\n",
    "print(\"before shape : \",x_test.shape)\n",
    "x_test_flat = x_test.reshape(-1,img_row*img_column*img_channel)\n",
    "print(\"after flat shape : \",x_test_flat.shape)\n",
    "tsne = TSNE()\n",
    "test_tsne_embeds = tsne.fit_transform(x_test_flat[:100])\n",
    "print(test_tsne_embeds.shape)\n",
    "scatter(test_tsne_embeds, y_test[:100], 10, \"Test Data Before TNN\")"
   ]
  },
  {
   "cell_type": "code",
   "execution_count": 5,
   "metadata": {},
   "outputs": [],
   "source": [
    "def generate_triplet(x,y,ap_pairs=10,an_pairs=10):\n",
    "    print(\"starting generate_triplet_pair\")\n",
    "    print(\"x shape : \", x.shape,\"   y shape : \", y.shape)\n",
    "    data_xy = tuple([x,y])\n",
    "    \n",
    "    triplet_train_pairs = []\n",
    "    for data_class in sorted(set(data_xy[1])):\n",
    "        same_class_idx = np.where(data_xy[1] == data_class)[0]\n",
    "        diff_class_idx = np.where(data_xy[1] != data_class)[0]\n",
    "        print(same_class_idx.shape,diff_class_idx.shape)\n",
    "        \n",
    "        # num of each: ap_pairs, an_pairs\n",
    "        A_P_pairs = random.sample(list(permutations(same_class_idx,2)),k=ap_pairs) #Generating Anchor-Positive pairs\n",
    "        Neg_idx = random.sample(list(diff_class_idx),k=an_pairs)\n",
    "        \n",
    "        #total data: ap_pairs*an_pairs\n",
    "        A_P_len = len(A_P_pairs)\n",
    "        Neg_len = len(Neg_idx)\n",
    "        \n",
    "        for ap in A_P_pairs:\n",
    "            Anchor = data_xy[0][ap[0]]\n",
    "            Positive = data_xy[0][ap[1]]\n",
    "            for n in Neg_idx:\n",
    "                Negative = data_xy[0][n]\n",
    "                triplet_train_pairs.append([Anchor,Positive,Negative])\n",
    "                    \n",
    "    return np.array(triplet_train_pairs)"
   ]
  },
  {
   "cell_type": "code",
   "execution_count": 6,
   "metadata": {},
   "outputs": [],
   "source": [
    "def generate_triplet_2(x,y,ap_pairs=10,an_pairs=10):\n",
    "    print(x.shape, y.shape)\n",
    "    data_xy = tuple([x,y])\n",
    "    \n",
    "    triplet_train_pairs = []\n",
    "    \n",
    "    for data_class in sorted(set(data_xy[1])):\n",
    "        same_class_idx = np.where(data_xy[1] == data_class)[0]\n",
    "        diff_class_idx = np.where(data_xy[1] != data_class)[0]\n",
    "        \n",
    "        # num of each: ap_pairs, an_pairs\n",
    "        A_P_pairs = random.sample(list(permutations(same_class_idx,2)),k=ap_pairs) #Generating Anchor-Positive pairs\n",
    "        Neg_idx = random.sample(list(diff_class_idx),k=an_pairs)\n",
    "        \n",
    "        #total data: ap_pairs*an_pairs\n",
    "        A_P_len = len(A_P_pairs)\n",
    "        Neg_len = len(Neg_idx)\n",
    "        ng_idx=0\n",
    "        \n",
    "        for ap in A_P_pairs:\n",
    "            Anchor = data_xy[0][ap[0]]\n",
    "            Positive = data_xy[0][ap[1]]\n",
    "            Negative = data_xy[0][Neg_idx[ng_idx%Neg_len]]\n",
    "            triplet_train_pairs.append([Anchor,Positive,Negative])\n",
    "            ng_idx+=1\n",
    "            \n",
    "    return np.array(triplet_train_pairs)"
   ]
  },
  {
   "cell_type": "code",
   "execution_count": 7,
   "metadata": {},
   "outputs": [
    {
     "name": "stdout",
     "output_type": "stream",
     "text": [
      "(60000, 784) (60000,)\n",
      "(10000, 784) (10000,)\n"
     ]
    }
   ],
   "source": [
    "x_train_triplet = generate_triplet_2(x_train_flat,y_train,ap_pairs=150,an_pairs=150)\n",
    "x_test_triplet = generate_triplet_2(x_test_flat,y_test,ap_pairs=150,an_pairs=150)"
   ]
  },
  {
   "cell_type": "code",
   "execution_count": 8,
   "metadata": {},
   "outputs": [
    {
     "name": "stdout",
     "output_type": "stream",
     "text": [
      "(1500, 3, 784) (1500, 3, 784)\n"
     ]
    }
   ],
   "source": [
    "print(x_train_triplet.shape , x_test_triplet.shape)"
   ]
  },
  {
   "cell_type": "code",
   "execution_count": 9,
   "metadata": {},
   "outputs": [],
   "source": [
    "def create_model():\n",
    "    #cnn model\n",
    "    model = Sequential()\n",
    "    #input shape - mnist.shape 28,28,1\n",
    "    model.add(Conv2D(128,(7,7),padding='same',input_shape=(28,28,1),activation='relu',name='conv1'))\n",
    "    model.add(MaxPooling2D((2,2),(2,2),padding='same',name='pool1'))\n",
    "    model.add(Conv2D(256,(10,10),padding='same',activation='relu',name='conv2'))\n",
    "    model.add(MaxPooling2D((2,2),(2,2),padding='same',name='pool2'))\n",
    "    model.add(Flatten(name='flatten'))\n",
    "    model.add(Dense(4,name='embeddings'))\n",
    "    return model"
   ]
  },
  {
   "cell_type": "code",
   "execution_count": 12,
   "metadata": {},
   "outputs": [],
   "source": [
    "def triplet_loss(y_true, y_pred, alpha = MARGIN):\n",
    "    \n",
    "    #print('y_pred.shape = ',y_pred)\n",
    "    \n",
    "    total_lenght = y_pred.shape.as_list()[-1]\n",
    "#     print('total_lenght=',  total_lenght)\n",
    "#     total_lenght =12\n",
    "    \n",
    "    anchor = y_pred[:,0:int(total_lenght*1/3)]\n",
    "    positive = y_pred[:,int(total_lenght*1/3):int(total_lenght*2/3)]\n",
    "    negative = y_pred[:,int(total_lenght*2/3):int(total_lenght*3/3)]\n",
    "\n",
    "    # distance between the anchor and the positive\n",
    "    pos_dist = K.sum(K.square(anchor-positive),axis=1)\n",
    "\n",
    "    # distance between the anchor and the negative\n",
    "    neg_dist = K.sum(K.square(anchor-negative),axis=1)\n",
    "\n",
    "    # compute loss\n",
    "    basic_loss = pos_dist-neg_dist+alpha\n",
    "    loss = K.maximum(basic_loss,0.0)\n",
    " \n",
    "    return loss"
   ]
  },
  {
   "cell_type": "code",
   "execution_count": 13,
   "metadata": {},
   "outputs": [
    {
     "name": "stdout",
     "output_type": "stream",
     "text": [
      "WARNING:tensorflow:From /Users/leejungjae/opt/anaconda3/envs/kr2_2_4tf1_13_1/lib/python3.7/site-packages/tensorflow/python/framework/op_def_library.py:263: colocate_with (from tensorflow.python.framework.ops) is deprecated and will be removed in a future version.\n",
      "Instructions for updating:\n",
      "Colocations handled automatically by placer.\n",
      "__________________________________________________________________________________________________\n",
      "Layer (type)                    Output Shape         Param #     Connected to                     \n",
      "==================================================================================================\n",
      "anchor_input (InputLayer)       (None, 28, 28, 1)    0                                            \n",
      "__________________________________________________________________________________________________\n",
      "positive_input (InputLayer)     (None, 28, 28, 1)    0                                            \n",
      "__________________________________________________________________________________________________\n",
      "negative_input (InputLayer)     (None, 28, 28, 1)    0                                            \n",
      "__________________________________________________________________________________________________\n",
      "sequential_1 (Sequential)       (None, 4)            3333636     anchor_input[0][0]               \n",
      "                                                                 positive_input[0][0]             \n",
      "                                                                 negative_input[0][0]             \n",
      "__________________________________________________________________________________________________\n",
      "merged_layer (Concatenate)      (None, 12)           0           sequential_1[1][0]               \n",
      "                                                                 sequential_1[2][0]               \n",
      "                                                                 sequential_1[3][0]               \n",
      "==================================================================================================\n",
      "Total params: 3,333,636\n",
      "Trainable params: 3,333,636\n",
      "Non-trainable params: 0\n",
      "__________________________________________________________________________________________________\n",
      "WARNING:tensorflow:From /Users/leejungjae/opt/anaconda3/envs/kr2_2_4tf1_13_1/lib/python3.7/site-packages/tensorflow/python/ops/math_ops.py:3066: to_int32 (from tensorflow.python.ops.math_ops) is deprecated and will be removed in a future version.\n",
      "Instructions for updating:\n",
      "Use tf.cast instead.\n",
      "Train on 1500 samples, validate on 1500 samples\n",
      "Epoch 1/10\n",
      "1500/1500 [==============================] - 256s 171ms/step - loss: 28300193827.4207 - val_loss: 289255561.6427\n",
      "\n",
      "Epoch 00001: val_loss improved from inf to 289255561.64267, saving model to ./1.4000000000000001-289255561.6427-01.hdf5\n",
      "Epoch 2/10\n",
      "1500/1500 [==============================] - 248s 165ms/step - loss: 110566138.8960 - val_loss: 76443172.0107\n",
      "\n",
      "Epoch 00002: val_loss improved from 289255561.64267 to 76443172.01067, saving model to ./1.4000000000000001-76443172.0107-02.hdf5\n",
      "Epoch 3/10\n",
      "1500/1500 [==============================] - 247s 165ms/step - loss: 25141122.0062 - val_loss: 20605841.5707\n",
      "\n",
      "Epoch 00003: val_loss improved from 76443172.01067 to 20605841.57067, saving model to ./1.4000000000000001-20605841.5707-03.hdf5\n",
      "Epoch 4/10\n",
      "1500/1500 [==============================] - 248s 165ms/step - loss: 7135606.3360 - val_loss: 15680591.2907\n",
      "\n",
      "Epoch 00004: val_loss improved from 20605841.57067 to 15680591.29067, saving model to ./1.4000000000000001-15680591.2907-04.hdf5\n",
      "Epoch 5/10\n",
      "1500/1500 [==============================] - 248s 165ms/step - loss: 1685107.0714 - val_loss: 13473273.3567\n",
      "\n",
      "Epoch 00005: val_loss improved from 15680591.29067 to 13473273.35667, saving model to ./1.4000000000000001-13473273.3567-05.hdf5\n",
      "Epoch 6/10\n",
      "1500/1500 [==============================] - 251s 167ms/step - loss: 785595.7082 - val_loss: 12901417.7267\n",
      "\n",
      "Epoch 00006: val_loss improved from 13473273.35667 to 12901417.72667, saving model to ./1.4000000000000001-12901417.7267-06.hdf5\n",
      "Epoch 7/10\n",
      "1500/1500 [==============================] - 256s 171ms/step - loss: 465839.0192 - val_loss: 11874915.7400\n",
      "\n",
      "Epoch 00007: val_loss improved from 12901417.72667 to 11874915.74000, saving model to ./1.4000000000000001-11874915.7400-07.hdf5\n",
      "Epoch 8/10\n",
      "1500/1500 [==============================] - 249s 166ms/step - loss: 406748.9167 - val_loss: 12264258.5600\n",
      "\n",
      "Epoch 00008: val_loss did not improve from 11874915.74000\n",
      "Epoch 9/10\n",
      "1500/1500 [==============================] - 248s 165ms/step - loss: 350839.9410 - val_loss: 12754661.4650\n",
      "\n",
      "Epoch 00009: val_loss did not improve from 11874915.74000\n",
      "Epoch 10/10\n",
      "1500/1500 [==============================] - 251s 167ms/step - loss: 125333.4002 - val_loss: 13134933.1120\n",
      "\n",
      "Epoch 00010: val_loss did not improve from 11874915.74000\n",
      "Saved model to disk\n"
     ]
    }
   ],
   "source": [
    "#---------------------------------------------------------------------------------------------------\n",
    "adam_optim = Adam(lr=LEARNING_RATE, beta_1=0.9, beta_2=0.999)\n",
    "#---------------------------------------------------------------------------------------------------\n",
    "input_row=28\n",
    "input_column=28\n",
    "input_channel=1\n",
    "anchor_input = Input((input_row, input_column, input_channel, ), name='anchor_input')\n",
    "positive_input = Input((input_row, input_column, input_channel, ), name='positive_input')\n",
    "negative_input = Input((input_row, input_column, input_channel, ), name='negative_input')\n",
    "\n",
    "Shared_DNN = create_model()\n",
    "encoded_anchor = Shared_DNN(anchor_input)\n",
    "encoded_positive = Shared_DNN(positive_input)\n",
    "encoded_negative = Shared_DNN(negative_input)\n",
    "\n",
    "\n",
    "merged_vector = concatenate([encoded_anchor, encoded_positive, encoded_negative], axis=-1, name='merged_layer')\n",
    "\n",
    "model = Model(inputs=[anchor_input,positive_input, negative_input], outputs=merged_vector)\n",
    "#---------------------------------------------------------------------------------------------------\n",
    "model.compile(loss=triplet_loss, optimizer=adam_optim)\n",
    "model.summary()\n",
    "#---------------------------------------------------------------------------------------------------\n",
    "Anchor = x_train_triplet[:,0,:].reshape(-1,input_row, input_column, input_channel)\n",
    "Positive = x_train_triplet[:,1,:].reshape(-1,input_row, input_column, input_channel)\n",
    "Negative = x_train_triplet[:,2,:].reshape(-1,input_row, input_column, input_channel)\n",
    "\n",
    "Anchor_test = x_test_triplet[:,0,:].reshape(-1,input_row, input_column, input_channel)\n",
    "Positive_test = x_test_triplet[:,1,:].reshape(-1,input_row, input_column, input_channel)\n",
    "Negative_test = x_test_triplet[:,2,:].reshape(-1,input_row, input_column, input_channel)\n",
    "\n",
    "\n",
    "Y_dummy = np.empty((Anchor.shape[0],300))\n",
    "Y_dummy2 = np.empty((Anchor_test.shape[0],1))\n",
    "\n",
    "MODEL_SAVE_FOLDER_PATH = './'\n",
    "LOG_SAVE_FOLDER_PATH = './'\n",
    "model_path = MODEL_SAVE_FOLDER_PATH + str(LEARNING_RATE+MARGIN)+'-{val_loss:.4f}-{epoch:02d}.hdf5'\n",
    "log_path = LOG_SAVE_FOLDER_PATH + str(LEARNING_RATE+MARGIN)+'-log.csv'\n",
    "\n",
    "csv_logger = CSVLogger(log_path, append=True, separator=';')\n",
    "cb_early_stopping = EarlyStopping(monitor='val_loss', patience=5)\n",
    "cb_checkpoint = ModelCheckpoint(filepath=model_path, monitor='val_loss', verbose=1, save_best_only=True)\n",
    "model_history= model.fit([Anchor,Positive,Negative],y=Y_dummy,validation_data=([Anchor_test,Positive_test,Negative_test],Y_dummy2), batch_size=64, epochs=10, callbacks=[csv_logger,cb_early_stopping,cb_checkpoint])\n",
    "#---------------------------------------------------------------------------------------------------\n",
    "model_json = model.to_json()\n",
    "with open(MODEL_SAVE_FOLDER_PATH + str(LEARNING_RATE+MARGIN), \"w\") as json_file : \n",
    "    json_file.write(model_json)\n",
    "\n",
    "model.save_weights(MODEL_SAVE_FOLDER_PATH + str(LEARNING_RATE+MARGIN)+\".h5\")\n",
    "print(\"Saved model to disk\")\n"
   ]
  },
  {
   "cell_type": "code",
   "execution_count": null,
   "metadata": {},
   "outputs": [],
   "source": []
  },
  {
   "cell_type": "code",
   "execution_count": null,
   "metadata": {},
   "outputs": [],
   "source": []
  }
 ],
 "metadata": {
  "kernelspec": {
   "display_name": "kr2_2_4tf_1_13_1",
   "language": "python",
   "name": "kr2_2_4tf1_13_1"
  },
  "language_info": {
   "codemirror_mode": {
    "name": "ipython",
    "version": 3
   },
   "file_extension": ".py",
   "mimetype": "text/x-python",
   "name": "python",
   "nbconvert_exporter": "python",
   "pygments_lexer": "ipython3",
   "version": "3.7.7"
  }
 },
 "nbformat": 4,
 "nbformat_minor": 4
}
